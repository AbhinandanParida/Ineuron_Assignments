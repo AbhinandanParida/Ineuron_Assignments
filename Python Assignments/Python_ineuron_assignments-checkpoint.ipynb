{
 "cells": [
  {
   "cell_type": "code",
   "execution_count": 2,
   "id": "f0c48591-ca5a-494e-884a-2087e53e2c8f",
   "metadata": {},
   "outputs": [
    {
     "data": {
      "text/plain": [
       "['SAS', 'R', 'PYTHON', 'SPARK']"
      ]
     },
     "execution_count": 2,
     "metadata": {},
     "output_type": "execute_result"
    }
   ],
   "source": [
    "## List Remove Append\n",
    "input_list = ['SAS','R','PYTHON','SPSS']\n",
    "input_list[-1]='SPARK'\n",
    "input_list"
   ]
  },
  {
   "cell_type": "code",
   "execution_count": 4,
   "id": "7f058429-be28-4afd-8de7-cc70dbc4a5a1",
   "metadata": {},
   "outputs": [
    {
     "data": {
      "text/plain": [
       "['I love Data Science ', ' Python']"
      ]
     },
     "execution_count": 4,
     "metadata": {},
     "output_type": "execute_result"
    }
   ],
   "source": [
    "## String to List Conversion\n",
    "input_str = 'I love Data Science & Python'\n",
    "output_list = input_str.split('&')\n",
    "output_list"
   ]
  },
  {
   "cell_type": "code",
   "execution_count": 7,
   "id": "068946b8-39b9-4bbb-88ed-753c333306e0",
   "metadata": {},
   "outputs": [
    {
     "data": {
      "text/plain": [
       "'Python syntax is easy to learn & Pythons syntax is very clear'"
      ]
     },
     "execution_count": 7,
     "metadata": {},
     "output_type": "execute_result"
    }
   ],
   "source": [
    "## List to String Conversion\n",
    "input_list = ['Python syntax is easy to learn ',' Pythons syntax is very clear']\n",
    "output_str = ('&').join(input_list)\n",
    "output_str"
   ]
  },
  {
   "cell_type": "code",
   "execution_count": 9,
   "id": "fc7c1979-116b-4c52-8834-849228b1d6a3",
   "metadata": {},
   "outputs": [
    {
     "data": {
      "text/plain": [
       "'Python'"
      ]
     },
     "execution_count": 9,
     "metadata": {},
     "output_type": "execute_result"
    }
   ],
   "source": [
    "## Nested List\n",
    "input_list = [['SAS','R'],['Tableau','SQL'],['Python','Java']]\n",
    "extract_str = input_list[-1][0]\n",
    "extract_str"
   ]
  },
  {
   "cell_type": "code",
   "execution_count": 10,
   "id": "e69f19ad-f155-4fff-9d66-e8ca85a15d14",
   "metadata": {},
   "outputs": [
    {
     "data": {
      "text/plain": [
       "'s'"
      ]
     },
     "execution_count": 10,
     "metadata": {},
     "output_type": "execute_result"
    }
   ],
   "source": [
    "## Its the time to Disco\n",
    "t=(\"disco\",12,4.5)\n",
    "t[0][2]"
   ]
  },
  {
   "cell_type": "code",
   "execution_count": 61,
   "id": "a4a044dc-38b5-456c-980f-38760243302a",
   "metadata": {},
   "outputs": [],
   "source": [
    "## String Palindrome\n",
    "def isPalindrome(str):\n",
    "    str_part1 = str[:len(str)//2]\n",
    "    if len(str)%2 != 0:\n",
    "        str_part2 = str[-1:-len(str)//2:-1]\n",
    "    else:\n",
    "        str_part2 = str[-1:-len(str)//2-1:-1]\n",
    "        \n",
    "    if len(str_part1) == len(str_part2):\n",
    "        if str_part1 == str_part2:\n",
    "            return True\n",
    "        else:\n",
    "            return False\n",
    "    else:\n",
    "        return False"
   ]
  },
  {
   "cell_type": "code",
   "execution_count": 65,
   "id": "924be774-7d81-418c-916f-daec13ab2cd2",
   "metadata": {},
   "outputs": [
    {
     "data": {
      "text/plain": [
       "False"
      ]
     },
     "execution_count": 65,
     "metadata": {},
     "output_type": "execute_result"
    }
   ],
   "source": [
    "isPalindrome('abad')"
   ]
  },
  {
   "cell_type": "code",
   "execution_count": 66,
   "id": "e1de7999-b05f-4f78-a575-57ac41eb9ef7",
   "metadata": {},
   "outputs": [],
   "source": [
    "## Reverse Words\n",
    "def reverse(str):\n",
    "    list1 = str.split(' ')\n",
    "    list1 = list1[::-1]\n",
    "    return (' ').join(list1)"
   ]
  },
  {
   "cell_type": "code",
   "execution_count": 67,
   "id": "c68aa427-ff19-42e2-955d-8a11ec1be793",
   "metadata": {},
   "outputs": [
    {
     "data": {
      "text/plain": [
       "'guy good a am I'"
      ]
     },
     "execution_count": 67,
     "metadata": {},
     "output_type": "execute_result"
    }
   ],
   "source": [
    "reverse('I am a good guy')"
   ]
  },
  {
   "cell_type": "code",
   "execution_count": 71,
   "id": "76b29461-6329-47c5-9fad-99bce02ea6c3",
   "metadata": {},
   "outputs": [],
   "source": [
    "## String Formatting\n",
    "def word_concat(str):\n",
    "    str = str.lower()\n",
    "    list1= str.split(' ')\n",
    "    return ('_').join(list1)"
   ]
  },
  {
   "cell_type": "code",
   "execution_count": 72,
   "id": "6a2ce804-654e-4d94-90fa-0678135d0a4b",
   "metadata": {},
   "outputs": [
    {
     "data": {
      "text/plain": [
       "'calorie_consumed'"
      ]
     },
     "execution_count": 72,
     "metadata": {},
     "output_type": "execute_result"
    }
   ],
   "source": [
    "word_concat('caloRie ConsuMed')"
   ]
  },
  {
   "cell_type": "code",
   "execution_count": 2,
   "id": "f1162f7f-257d-4006-85e0-01f76656a86d",
   "metadata": {},
   "outputs": [
    {
     "data": {
      "text/plain": [
       "'love'"
      ]
     },
     "execution_count": 2,
     "metadata": {},
     "output_type": "execute_result"
    }
   ],
   "source": [
    "## Multiple Choice Questions\n",
    "## 1.\n",
    "S=\"I love Python\"\n",
    "print(S[2:6])\n",
    "print(S[-11:-7])\n",
    "\n",
    "## Ans : b and d"
   ]
  },
  {
   "cell_type": "code",
   "execution_count": 4,
   "id": "0b12a8f5-50ac-4d86-8ef7-35c5b8e6f653",
   "metadata": {},
   "outputs": [
    {
     "data": {
      "text/plain": [
       "81"
      ]
     },
     "execution_count": 4,
     "metadata": {},
     "output_type": "execute_result"
    }
   ],
   "source": [
    "## 2.\n",
    "3*3**3\n",
    "\n",
    "## Ans : c"
   ]
  },
  {
   "cell_type": "code",
   "execution_count": 5,
   "id": "3b9dc885-ef87-4559-bb45-ad341e5c0831",
   "metadata": {},
   "outputs": [
    {
     "data": {
      "text/plain": [
       "1"
      ]
     },
     "execution_count": 5,
     "metadata": {},
     "output_type": "execute_result"
    }
   ],
   "source": [
    "## 3.\n",
    "((500//7)%5)**3\n",
    "\n",
    "## Ans. a"
   ]
  },
  {
   "cell_type": "code",
   "execution_count": 6,
   "id": "a1bdd15e-d8fc-451b-b257-bffc656cbe49",
   "metadata": {},
   "outputs": [
    {
     "ename": "AttributeError",
     "evalue": "'tuple' object has no attribute 'append'",
     "output_type": "error",
     "traceback": [
      "\u001b[1;31m---------------------------------------------------------------------------\u001b[0m",
      "\u001b[1;31mAttributeError\u001b[0m                            Traceback (most recent call last)",
      "\u001b[1;32m<ipython-input-6-eee85510cc33>\u001b[0m in \u001b[0;36m<module>\u001b[1;34m\u001b[0m\n\u001b[0;32m      1\u001b[0m \u001b[1;31m## d.\u001b[0m\u001b[1;33m\u001b[0m\u001b[1;33m\u001b[0m\u001b[1;33m\u001b[0m\u001b[0m\n\u001b[0;32m      2\u001b[0m \u001b[0mT\u001b[0m\u001b[1;33m=\u001b[0m\u001b[1;33m(\u001b[0m\u001b[1;36m3\u001b[0m\u001b[1;33m,\u001b[0m\u001b[1;36m5\u001b[0m\u001b[1;33m,\u001b[0m\u001b[1;36m7\u001b[0m\u001b[1;33m,\u001b[0m\u001b[1;36m11\u001b[0m\u001b[1;33m)\u001b[0m\u001b[1;33m\u001b[0m\u001b[1;33m\u001b[0m\u001b[0m\n\u001b[1;32m----> 3\u001b[1;33m \u001b[0mT\u001b[0m\u001b[1;33m.\u001b[0m\u001b[0mappend\u001b[0m\u001b[1;33m(\u001b[0m\u001b[1;36m9\u001b[0m\u001b[1;33m)\u001b[0m\u001b[1;33m\u001b[0m\u001b[1;33m\u001b[0m\u001b[0m\n\u001b[0m",
      "\u001b[1;31mAttributeError\u001b[0m: 'tuple' object has no attribute 'append'"
     ]
    }
   ],
   "source": [
    "## 4.\n",
    "T=(3,5,7,11)\n",
    "T.append(9)\n",
    "\n",
    "## Ans:  d"
   ]
  },
  {
   "cell_type": "code",
   "execution_count": 7,
   "id": "1d4a76a1-f4ae-4378-9851-ddedca20b8d3",
   "metadata": {},
   "outputs": [],
   "source": [
    "## 5.\n",
    "## Question Incomplete"
   ]
  },
  {
   "cell_type": "code",
   "execution_count": 8,
   "id": "cbc97399-0b16-4912-a113-0df52cd121a2",
   "metadata": {},
   "outputs": [
    {
     "data": {
      "text/plain": [
       "6"
      ]
     },
     "execution_count": 8,
     "metadata": {},
     "output_type": "execute_result"
    }
   ],
   "source": [
    "## 6.\n",
    "l = [32,34,12,27,33]\n",
    "l.append([14,19])\n",
    "len(l)\n",
    "\n",
    "## Ans  : b"
   ]
  },
  {
   "cell_type": "code",
   "execution_count": 9,
   "id": "c76fc368-8df2-4f9a-8519-2f64fd30330a",
   "metadata": {},
   "outputs": [],
   "source": [
    "## 7.\n",
    "## Ans : c"
   ]
  },
  {
   "cell_type": "code",
   "execution_count": 18,
   "id": "6444f608-5396-42c7-8689-a9fb66c43727",
   "metadata": {},
   "outputs": [
    {
     "name": "stdout",
     "output_type": "stream",
     "text": [
      "l\n",
      "2\n",
      "3\n"
     ]
    }
   ],
   "source": [
    "## 8.\n",
    "D = {'l':['Raj', 22], '2':['Simran', 21], '3':['Rahul', 40]}\n",
    "for val in D:\n",
    "    print(val)\n"
   ]
  },
  {
   "cell_type": "code",
   "execution_count": 19,
   "id": "66fca1d2-80ae-4274-81e6-b534f1f0ad70",
   "metadata": {},
   "outputs": [],
   "source": [
    "## Ans : a"
   ]
  },
  {
   "cell_type": "code",
   "execution_count": 20,
   "id": "f45166c6-db42-4da1-b629-59f4f5dd6273",
   "metadata": {},
   "outputs": [],
   "source": [
    "## 9.\n",
    "## Ans :d"
   ]
  },
  {
   "cell_type": "code",
   "execution_count": 24,
   "id": "559fb345-edd9-4cc8-acc2-017d7bdd7501",
   "metadata": {},
   "outputs": [
    {
     "name": "stdout",
     "output_type": "stream",
     "text": [
      "[10, 9, 8, 7, 6, 5, 4, 3, 2]\n"
     ]
    }
   ],
   "source": [
    "## 10.\n",
    "print(list(range(10, 1, -1)))\n",
    "## Ans : d"
   ]
  },
  {
   "cell_type": "code",
   "execution_count": null,
   "id": "e6c0a89b-86ee-4115-b421-97978f7e5d54",
   "metadata": {},
   "outputs": [],
   "source": []
  }
 ],
 "metadata": {
  "kernelspec": {
   "display_name": "Python 3",
   "language": "python",
   "name": "python3"
  },
  "language_info": {
   "codemirror_mode": {
    "name": "ipython",
    "version": 3
   },
   "file_extension": ".py",
   "mimetype": "text/x-python",
   "name": "python",
   "nbconvert_exporter": "python",
   "pygments_lexer": "ipython3",
   "version": "3.8.8"
  }
 },
 "nbformat": 4,
 "nbformat_minor": 5
}
